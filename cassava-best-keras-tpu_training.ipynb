{
 "cells": [
  {
   "cell_type": "markdown",
   "metadata": {
    "papermill": {
     "duration": 0.029494,
     "end_time": "2021-02-18T16:41:03.027999",
     "exception": false,
     "start_time": "2021-02-18T16:41:02.998505",
     "status": "completed"
    },
    "tags": []
   },
   "source": [
    "## Cassava Leaf Disease Classification:\n",
    "\n",
    "## Best Keras CNN TPU\n",
    "\n",
    "The final part of this Cassava Leaf Disease: Keras CNN baseline and this Cassava Leaf Disease: Keras CNN prediction notebooks.\n",
    "\n",
    "Some models and weights stored in this dataset: Cassava Leaf Disease Models\n",
    "\n",
    "### Here you'll find:\n",
    "* examples of ImageDataGenerator work;\n",
    "* my best experiments with EfficientNet CNNs;\n",
    "* visualizations of CNN intermediate activations;\n",
    "* something else interesting in the future.\n",
    "\n",
    "### Ideas for future improvements:\n",
    "* try various image sizes;\n",
    "* try various batch sizes;\n",
    "* experiments with learning rate;\n",
    "* experiments with data augmentation;\n",
    "* other.\n",
    "\n",
    "I am grateful to François Cholet for the book \"Deep Learning with Python\", wherefrom I borrowed some useful techniques."
   ]
  },
  {
   "cell_type": "code",
   "execution_count": 1,
   "metadata": {
    "_kg_hide-input": false,
    "_kg_hide-output": true,
    "execution": {
     "iopub.execute_input": "2021-02-18T16:41:03.093701Z",
     "iopub.status.busy": "2021-02-18T16:41:03.092926Z",
     "iopub.status.idle": "2021-02-18T16:41:14.623522Z",
     "shell.execute_reply": "2021-02-18T16:41:14.624374Z"
    },
    "papermill": {
     "duration": 11.568798,
     "end_time": "2021-02-18T16:41:14.624848",
     "exception": false,
     "start_time": "2021-02-18T16:41:03.056050",
     "status": "completed"
    },
    "tags": []
   },
   "outputs": [
    {
     "name": "stdout",
     "output_type": "stream",
     "text": [
      "\u001b[33mWARNING: You are using pip version 21.0; however, version 21.0.1 is available.\r\n",
      "You should consider upgrading via the '/opt/conda/bin/python3.7 -m pip install --upgrade pip' command.\u001b[0m\r\n"
     ]
    }
   ],
   "source": [
    "!pip install efficientnet -q"
   ]
  },
  {
   "cell_type": "code",
   "execution_count": 2,
   "metadata": {
    "_kg_hide-input": true,
    "execution": {
     "iopub.execute_input": "2021-02-18T16:41:14.690147Z",
     "iopub.status.busy": "2021-02-18T16:41:14.689378Z",
     "iopub.status.idle": "2021-02-18T16:41:23.387825Z",
     "shell.execute_reply": "2021-02-18T16:41:23.387124Z"
    },
    "papermill": {
     "duration": 8.731125,
     "end_time": "2021-02-18T16:41:23.388005",
     "exception": false,
     "start_time": "2021-02-18T16:41:14.656880",
     "status": "completed"
    },
    "tags": []
   },
   "outputs": [],
   "source": [
    "import numpy as np\n",
    "import pandas as pd\n",
    "import matplotlib.pyplot as plt\n",
    "import seaborn as sns\n",
    "\n",
    "from sklearn.model_selection import train_test_split, KFold\n",
    "import tensorflow as tf\n",
    "from tensorflow.keras import models, layers\n",
    "from tensorflow.keras.callbacks import ModelCheckpoint, EarlyStopping, ReduceLROnPlateau\n",
    "from tensorflow.keras.optimizers import Adam\n",
    "import efficientnet.tfkeras as efn\n",
    "from kaggle_datasets import KaggleDatasets\n",
    "\n",
    "# ignoring warnings\n",
    "import warnings\n",
    "warnings.simplefilter(\"ignore\")\n",
    "\n",
    "import os, cv2, json, gc\n",
    "from tensorflow.keras.preprocessing import image"
   ]
  },
  {
   "cell_type": "code",
   "execution_count": 3,
   "metadata": {
    "execution": {
     "iopub.execute_input": "2021-02-18T16:41:23.460887Z",
     "iopub.status.busy": "2021-02-18T16:41:23.459791Z",
     "iopub.status.idle": "2021-02-18T16:41:28.887665Z",
     "shell.execute_reply": "2021-02-18T16:41:28.888162Z"
    },
    "papermill": {
     "duration": 5.470211,
     "end_time": "2021-02-18T16:41:28.888427",
     "exception": false,
     "start_time": "2021-02-18T16:41:23.418216",
     "status": "completed"
    },
    "tags": []
   },
   "outputs": [
    {
     "name": "stdout",
     "output_type": "stream",
     "text": [
      "Running on TPU grpc://10.0.0.2:8470\n",
      "REPLICAS: 8\n"
     ]
    }
   ],
   "source": [
    "# TPU or GPU detection\n",
    "# Detect hardware, return appropriate distribution strategy\n",
    "try:\n",
    "    tpu = tf.distribute.cluster_resolver.TPUClusterResolver()\n",
    "    print(f'Running on TPU {tpu.master()}')\n",
    "except ValueError:\n",
    "    tpu = None\n",
    "\n",
    "if tpu:\n",
    "    tf.config.experimental_connect_to_cluster(tpu)\n",
    "    tf.tpu.experimental.initialize_tpu_system(tpu)\n",
    "    strategy = tf.distribute.experimental.TPUStrategy(tpu)\n",
    "else:\n",
    "    strategy = tf.distribute.get_strategy()\n",
    "\n",
    "AUTO = tf.data.experimental.AUTOTUNE\n",
    "REPLICAS = strategy.num_replicas_in_sync\n",
    "print(f'REPLICAS: {REPLICAS}')"
   ]
  },
  {
   "cell_type": "markdown",
   "metadata": {
    "papermill": {
     "duration": 0.027973,
     "end_time": "2021-02-18T16:41:28.944868",
     "exception": false,
     "start_time": "2021-02-18T16:41:28.916895",
     "status": "completed"
    },
    "tags": []
   },
   "source": [
    "## Work directory"
   ]
  },
  {
   "cell_type": "code",
   "execution_count": 4,
   "metadata": {
    "_kg_hide-input": false,
    "execution": {
     "iopub.execute_input": "2021-02-18T16:41:29.008012Z",
     "iopub.status.busy": "2021-02-18T16:41:29.007183Z",
     "iopub.status.idle": "2021-02-18T16:41:29.018827Z",
     "shell.execute_reply": "2021-02-18T16:41:29.019474Z"
    },
    "papermill": {
     "duration": 0.046664,
     "end_time": "2021-02-18T16:41:29.019693",
     "exception": false,
     "start_time": "2021-02-18T16:41:28.973029",
     "status": "completed"
    },
    "tags": []
   },
   "outputs": [
    {
     "data": {
      "text/plain": [
       "['train_tfrecords',\n",
       " 'sample_submission.csv',\n",
       " 'test_tfrecords',\n",
       " 'label_num_to_disease_map.json',\n",
       " 'train_images',\n",
       " 'train.csv',\n",
       " 'test_images']"
      ]
     },
     "execution_count": 4,
     "metadata": {},
     "output_type": "execute_result"
    }
   ],
   "source": [
    "WORK_DIR = '../input/cassava-leaf-disease-classification'\n",
    "os.listdir(WORK_DIR)"
   ]
  },
  {
   "cell_type": "markdown",
   "metadata": {
    "papermill": {
     "duration": 0.029093,
     "end_time": "2021-02-18T16:41:29.077575",
     "exception": false,
     "start_time": "2021-02-18T16:41:29.048482",
     "status": "completed"
    },
    "tags": []
   },
   "source": [
    "## First look at the data"
   ]
  },
  {
   "cell_type": "code",
   "execution_count": 5,
   "metadata": {
    "_kg_hide-input": true,
    "execution": {
     "iopub.execute_input": "2021-02-18T16:41:29.143203Z",
     "iopub.status.busy": "2021-02-18T16:41:29.142400Z",
     "iopub.status.idle": "2021-02-18T16:41:29.798260Z",
     "shell.execute_reply": "2021-02-18T16:41:29.797607Z"
    },
    "papermill": {
     "duration": 0.690977,
     "end_time": "2021-02-18T16:41:29.798444",
     "exception": false,
     "start_time": "2021-02-18T16:41:29.107467",
     "status": "completed"
    },
    "tags": []
   },
   "outputs": [
    {
     "name": "stdout",
     "output_type": "stream",
     "text": [
      "Train images: 21397\n"
     ]
    }
   ],
   "source": [
    "print('Train images: %d' %len(os.listdir(\n",
    "    os.path.join(WORK_DIR, \"train_images\"))))"
   ]
  },
  {
   "cell_type": "code",
   "execution_count": 6,
   "metadata": {
    "_kg_hide-input": true,
    "execution": {
     "iopub.execute_input": "2021-02-18T16:41:29.865273Z",
     "iopub.status.busy": "2021-02-18T16:41:29.864393Z",
     "iopub.status.idle": "2021-02-18T16:41:29.873885Z",
     "shell.execute_reply": "2021-02-18T16:41:29.873227Z"
    },
    "papermill": {
     "duration": 0.045245,
     "end_time": "2021-02-18T16:41:29.874049",
     "exception": false,
     "start_time": "2021-02-18T16:41:29.828804",
     "status": "completed"
    },
    "tags": []
   },
   "outputs": [
    {
     "name": "stdout",
     "output_type": "stream",
     "text": [
      "{\n",
      "    \"0\": \"Cassava Bacterial Blight (CBB)\",\n",
      "    \"1\": \"Cassava Brown Streak Disease (CBSD)\",\n",
      "    \"2\": \"Cassava Green Mottle (CGM)\",\n",
      "    \"3\": \"Cassava Mosaic Disease (CMD)\",\n",
      "    \"4\": \"Healthy\"\n",
      "}\n"
     ]
    }
   ],
   "source": [
    "with open(os.path.join(WORK_DIR, \"label_num_to_disease_map.json\")) as file:\n",
    "    print(json.dumps(json.loads(file.read()), indent=4))"
   ]
  },
  {
   "cell_type": "code",
   "execution_count": 7,
   "metadata": {
    "execution": {
     "iopub.execute_input": "2021-02-18T16:41:29.955561Z",
     "iopub.status.busy": "2021-02-18T16:41:29.954734Z",
     "iopub.status.idle": "2021-02-18T16:41:30.477382Z",
     "shell.execute_reply": "2021-02-18T16:41:30.476563Z"
    },
    "papermill": {
     "duration": 0.572746,
     "end_time": "2021-02-18T16:41:30.477567",
     "exception": false,
     "start_time": "2021-02-18T16:41:29.904821",
     "status": "completed"
    },
    "tags": []
   },
   "outputs": [
    {
     "data": {
      "text/html": [
       "<div>\n",
       "<style scoped>\n",
       "    .dataframe tbody tr th:only-of-type {\n",
       "        vertical-align: middle;\n",
       "    }\n",
       "\n",
       "    .dataframe tbody tr th {\n",
       "        vertical-align: top;\n",
       "    }\n",
       "\n",
       "    .dataframe thead th {\n",
       "        text-align: right;\n",
       "    }\n",
       "</style>\n",
       "<table border=\"1\" class=\"dataframe\">\n",
       "  <thead>\n",
       "    <tr style=\"text-align: right;\">\n",
       "      <th></th>\n",
       "      <th>image_id</th>\n",
       "      <th>label</th>\n",
       "    </tr>\n",
       "  </thead>\n",
       "  <tbody>\n",
       "    <tr>\n",
       "      <th>0</th>\n",
       "      <td>1000015157.jpg</td>\n",
       "      <td>0</td>\n",
       "    </tr>\n",
       "    <tr>\n",
       "      <th>1</th>\n",
       "      <td>1000201771.jpg</td>\n",
       "      <td>3</td>\n",
       "    </tr>\n",
       "    <tr>\n",
       "      <th>2</th>\n",
       "      <td>100042118.jpg</td>\n",
       "      <td>1</td>\n",
       "    </tr>\n",
       "    <tr>\n",
       "      <th>3</th>\n",
       "      <td>1000723321.jpg</td>\n",
       "      <td>1</td>\n",
       "    </tr>\n",
       "    <tr>\n",
       "      <th>4</th>\n",
       "      <td>1000812911.jpg</td>\n",
       "      <td>3</td>\n",
       "    </tr>\n",
       "  </tbody>\n",
       "</table>\n",
       "</div>"
      ],
      "text/plain": [
       "         image_id  label\n",
       "0  1000015157.jpg      0\n",
       "1  1000201771.jpg      3\n",
       "2   100042118.jpg      1\n",
       "3  1000723321.jpg      1\n",
       "4  1000812911.jpg      3"
      ]
     },
     "execution_count": 7,
     "metadata": {},
     "output_type": "execute_result"
    }
   ],
   "source": [
    "# Data\n",
    "GCS_DS_PATH = KaggleDatasets().get_gcs_path('cassava-leaf-disease-classification')\n",
    "\n",
    "train_labels = pd.read_csv(os.path.join(WORK_DIR, \"train.csv\"))\n",
    "labels = np.transpose([train_labels['label']])\n",
    "train_images = GCS_DS_PATH + \"/train_images/\" + train_labels['image_id']\n",
    "\n",
    "ss = pd.read_csv(os.path.join(WORK_DIR, 'sample_submission.csv'))\n",
    "test_images = GCS_DS_PATH + \"/test_images/\" + ss['image_id']\n",
    "\n",
    "train_labels.head()"
   ]
  },
  {
   "cell_type": "code",
   "execution_count": 8,
   "metadata": {
    "execution": {
     "iopub.execute_input": "2021-02-18T16:41:30.548148Z",
     "iopub.status.busy": "2021-02-18T16:41:30.547378Z",
     "iopub.status.idle": "2021-02-18T16:41:30.551190Z",
     "shell.execute_reply": "2021-02-18T16:41:30.551766Z"
    },
    "papermill": {
     "duration": 0.041727,
     "end_time": "2021-02-18T16:41:30.552032",
     "exception": false,
     "start_time": "2021-02-18T16:41:30.510305",
     "status": "completed"
    },
    "tags": []
   },
   "outputs": [],
   "source": [
    "# sns.set_style(\"whitegrid\")\n",
    "# fig, ax = plt.subplots(figsize = (6, 4))\n",
    "\n",
    "# for i in ['top', 'right', 'left']:\n",
    "#     ax.spines[i].set_visible(False)\n",
    "# ax.spines['bottom'].set_color('black')\n",
    "\n",
    "# sns.countplot(train_labels.label, edgecolor = 'black',\n",
    "#               palette = reversed(sns.color_palette(\"viridis\", 5)))\n",
    "# plt.xlabel('Classes', fontfamily = 'serif', size = 15)\n",
    "# plt.ylabel('Count', fontfamily = 'serif', size = 15)\n",
    "# plt.xticks(fontfamily = 'serif', size = 12)\n",
    "# plt.yticks(fontfamily = 'serif', size = 12)\n",
    "# ax.grid(axis = 'y', linestyle = '--', alpha = 0.9)\n",
    "# plt.show()"
   ]
  },
  {
   "cell_type": "markdown",
   "metadata": {
    "papermill": {
     "duration": 0.03221,
     "end_time": "2021-02-18T16:41:30.616730",
     "exception": false,
     "start_time": "2021-02-18T16:41:30.584520",
     "status": "completed"
    },
    "tags": []
   },
   "source": [
    "## Some photos of \"0\": \"Cassava Bacterial Blight (CBB)\""
   ]
  },
  {
   "cell_type": "code",
   "execution_count": 9,
   "metadata": {
    "_kg_hide-input": true,
    "execution": {
     "iopub.execute_input": "2021-02-18T16:41:30.682839Z",
     "iopub.status.busy": "2021-02-18T16:41:30.682159Z",
     "iopub.status.idle": "2021-02-18T16:41:30.687101Z",
     "shell.execute_reply": "2021-02-18T16:41:30.686427Z"
    },
    "papermill": {
     "duration": 0.039026,
     "end_time": "2021-02-18T16:41:30.687280",
     "exception": false,
     "start_time": "2021-02-18T16:41:30.648254",
     "status": "completed"
    },
    "tags": []
   },
   "outputs": [],
   "source": [
    "# sample = train_labels[train_labels.label == 0].sample(3)\n",
    "# plt.figure(figsize=(15, 5))\n",
    "# for ind, (image_id, label) in enumerate(zip(sample.image_id, sample.label)):\n",
    "#     plt.subplot(1, 3, ind + 1)\n",
    "#     img = cv2.imread(os.path.join(WORK_DIR, \"train_images\", image_id))\n",
    "#     img = cv2.cvtColor(img, cv2.COLOR_BGR2RGB)\n",
    "#     plt.imshow(img)\n",
    "#     plt.axis(\"off\")\n",
    "    \n",
    "# plt.show()"
   ]
  },
  {
   "cell_type": "markdown",
   "metadata": {
    "papermill": {
     "duration": 0.030067,
     "end_time": "2021-02-18T16:41:30.748266",
     "exception": false,
     "start_time": "2021-02-18T16:41:30.718199",
     "status": "completed"
    },
    "tags": []
   },
   "source": [
    "## Some photos of \"1\": \"Cassava Brown Streak Disease (CBSD)\""
   ]
  },
  {
   "cell_type": "code",
   "execution_count": 10,
   "metadata": {
    "_kg_hide-input": true,
    "execution": {
     "iopub.execute_input": "2021-02-18T16:41:30.816069Z",
     "iopub.status.busy": "2021-02-18T16:41:30.814904Z",
     "iopub.status.idle": "2021-02-18T16:41:30.819067Z",
     "shell.execute_reply": "2021-02-18T16:41:30.819782Z"
    },
    "papermill": {
     "duration": 0.041642,
     "end_time": "2021-02-18T16:41:30.820418",
     "exception": false,
     "start_time": "2021-02-18T16:41:30.778776",
     "status": "completed"
    },
    "tags": []
   },
   "outputs": [],
   "source": [
    "# sample = train_labels[train_labels.label == 1].sample(3)\n",
    "# plt.figure(figsize=(15, 5))\n",
    "# for ind, (image_id, label) in enumerate(zip(sample.image_id, sample.label)):\n",
    "#     plt.subplot(1, 3, ind + 1)\n",
    "#     img = cv2.imread(os.path.join(WORK_DIR, \"train_images\", image_id))\n",
    "#     img = cv2.cvtColor(img, cv2.COLOR_BGR2RGB)\n",
    "#     plt.imshow(img)\n",
    "#     plt.axis(\"off\")\n",
    "    \n",
    "# plt.show()"
   ]
  },
  {
   "cell_type": "markdown",
   "metadata": {
    "papermill": {
     "duration": 0.031719,
     "end_time": "2021-02-18T16:41:30.887197",
     "exception": false,
     "start_time": "2021-02-18T16:41:30.855478",
     "status": "completed"
    },
    "tags": []
   },
   "source": [
    "## Some photos of \"2\": \"Cassava Green Mottle (CGM)\""
   ]
  },
  {
   "cell_type": "code",
   "execution_count": 11,
   "metadata": {
    "_kg_hide-input": true,
    "execution": {
     "iopub.execute_input": "2021-02-18T16:41:30.959638Z",
     "iopub.status.busy": "2021-02-18T16:41:30.958754Z",
     "iopub.status.idle": "2021-02-18T16:41:30.964341Z",
     "shell.execute_reply": "2021-02-18T16:41:30.963077Z"
    },
    "papermill": {
     "duration": 0.043633,
     "end_time": "2021-02-18T16:41:30.964687",
     "exception": false,
     "start_time": "2021-02-18T16:41:30.921054",
     "status": "completed"
    },
    "tags": []
   },
   "outputs": [],
   "source": [
    "# sample = train_labels[train_labels.label == 2].sample(3)\n",
    "# plt.figure(figsize=(15, 5))\n",
    "# for ind, (image_id, label) in enumerate(zip(sample.image_id, sample.label)):\n",
    "#     plt.subplot(1, 3, ind + 1)\n",
    "#     img = cv2.imread(os.path.join(WORK_DIR, \"train_images\", image_id))\n",
    "#     img = cv2.cvtColor(img, cv2.COLOR_BGR2RGB)\n",
    "#     plt.imshow(img)\n",
    "#     plt.axis(\"off\")\n",
    "    \n",
    "# plt.show()"
   ]
  },
  {
   "cell_type": "markdown",
   "metadata": {
    "papermill": {
     "duration": 0.033105,
     "end_time": "2021-02-18T16:41:31.033141",
     "exception": false,
     "start_time": "2021-02-18T16:41:31.000036",
     "status": "completed"
    },
    "tags": []
   },
   "source": [
    "## Some photos of \"3\": \"Cassava Mosaic Disease (CMD)\""
   ]
  },
  {
   "cell_type": "code",
   "execution_count": 12,
   "metadata": {
    "_kg_hide-input": true,
    "execution": {
     "iopub.execute_input": "2021-02-18T16:41:31.102551Z",
     "iopub.status.busy": "2021-02-18T16:41:31.101728Z",
     "iopub.status.idle": "2021-02-18T16:41:31.105683Z",
     "shell.execute_reply": "2021-02-18T16:41:31.104982Z"
    },
    "papermill": {
     "duration": 0.041055,
     "end_time": "2021-02-18T16:41:31.105874",
     "exception": false,
     "start_time": "2021-02-18T16:41:31.064819",
     "status": "completed"
    },
    "tags": []
   },
   "outputs": [],
   "source": [
    "# sample = train_labels[train_labels.label == 3].sample(3)\n",
    "# plt.figure(figsize=(15, 5))\n",
    "# for ind, (image_id, label) in enumerate(zip(sample.image_id, sample.label)):\n",
    "#     plt.subplot(1, 3, ind + 1)\n",
    "#     img = cv2.imread(os.path.join(WORK_DIR, \"train_images\", image_id))\n",
    "#     img = cv2.cvtColor(img, cv2.COLOR_BGR2RGB)\n",
    "#     plt.imshow(img)\n",
    "#     plt.axis(\"off\")\n",
    "    \n",
    "# plt.show()"
   ]
  },
  {
   "cell_type": "markdown",
   "metadata": {
    "papermill": {
     "duration": 0.030879,
     "end_time": "2021-02-18T16:41:31.168328",
     "exception": false,
     "start_time": "2021-02-18T16:41:31.137449",
     "status": "completed"
    },
    "tags": []
   },
   "source": [
    "## Some photos of \"4\": \"Healthy\""
   ]
  },
  {
   "cell_type": "code",
   "execution_count": 13,
   "metadata": {
    "_kg_hide-input": true,
    "execution": {
     "iopub.execute_input": "2021-02-18T16:41:31.235720Z",
     "iopub.status.busy": "2021-02-18T16:41:31.234927Z",
     "iopub.status.idle": "2021-02-18T16:41:31.238180Z",
     "shell.execute_reply": "2021-02-18T16:41:31.237583Z"
    },
    "papermill": {
     "duration": 0.03905,
     "end_time": "2021-02-18T16:41:31.238367",
     "exception": false,
     "start_time": "2021-02-18T16:41:31.199317",
     "status": "completed"
    },
    "tags": []
   },
   "outputs": [],
   "source": [
    "# sample = train_labels[train_labels.label == 4].sample(3)\n",
    "# plt.figure(figsize=(15, 5))\n",
    "# for ind, (image_id, label) in enumerate(zip(sample.image_id, sample.label)):\n",
    "#     plt.subplot(1, 3, ind + 1)\n",
    "#     img = cv2.imread(os.path.join(WORK_DIR, \"train_images\", image_id))\n",
    "#     img = cv2.cvtColor(img, cv2.COLOR_BGR2RGB)\n",
    "#     plt.imshow(img)\n",
    "#     plt.axis(\"off\")\n",
    "    \n",
    "# plt.show()"
   ]
  },
  {
   "cell_type": "markdown",
   "metadata": {
    "papermill": {
     "duration": 0.031063,
     "end_time": "2021-02-18T16:41:31.301288",
     "exception": false,
     "start_time": "2021-02-18T16:41:31.270225",
     "status": "completed"
    },
    "tags": []
   },
   "source": [
    "## Preparation for modeling"
   ]
  },
  {
   "cell_type": "code",
   "execution_count": 14,
   "metadata": {
    "execution": {
     "iopub.execute_input": "2021-02-18T16:41:31.372075Z",
     "iopub.status.busy": "2021-02-18T16:41:31.371293Z",
     "iopub.status.idle": "2021-02-18T16:41:31.374402Z",
     "shell.execute_reply": "2021-02-18T16:41:31.373723Z"
    },
    "papermill": {
     "duration": 0.041868,
     "end_time": "2021-02-18T16:41:31.374573",
     "exception": false,
     "start_time": "2021-02-18T16:41:31.332705",
     "status": "completed"
    },
    "tags": []
   },
   "outputs": [],
   "source": [
    "# Main parameters\n",
    "BATCH_SIZE = 8 * REPLICAS\n",
    "STEPS_PER_EPOCH = len(train_labels) * 0.8 / BATCH_SIZE\n",
    "VALIDATION_STEPS = len(train_labels) * 0.2 / BATCH_SIZE\n",
    "EPOCHS = 30\n",
    "TARGET_SIZE = 550"
   ]
  },
  {
   "cell_type": "markdown",
   "metadata": {
    "papermill": {
     "duration": 0.031892,
     "end_time": "2021-02-18T16:41:31.437987",
     "exception": false,
     "start_time": "2021-02-18T16:41:31.406095",
     "status": "completed"
    },
    "tags": []
   },
   "source": [
    "### Required functions"
   ]
  },
  {
   "cell_type": "code",
   "execution_count": 15,
   "metadata": {
    "execution": {
     "iopub.execute_input": "2021-02-18T16:41:31.537573Z",
     "iopub.status.busy": "2021-02-18T16:41:31.515959Z",
     "iopub.status.idle": "2021-02-18T16:41:31.550081Z",
     "shell.execute_reply": "2021-02-18T16:41:31.549312Z"
    },
    "papermill": {
     "duration": 0.077223,
     "end_time": "2021-02-18T16:41:31.550268",
     "exception": false,
     "start_time": "2021-02-18T16:41:31.473045",
     "status": "completed"
    },
    "tags": []
   },
   "outputs": [],
   "source": [
    "# https://www.kaggle.com/xhlulu/ranzcr-efficientnet-b3-gpu-starter\n",
    "\n",
    "def build_decoder(with_labels = True,\n",
    "                  target_size = (TARGET_SIZE, TARGET_SIZE), \n",
    "                  ext = 'jpg'):\n",
    "    def decode(path):\n",
    "        file_bytes = tf.io.read_file(path)\n",
    "        if ext == 'png':\n",
    "            img = tf.image.decode_png(file_bytes, channels = 3)\n",
    "        elif ext in ['jpg', 'jpeg']:\n",
    "            img = tf.image.decode_jpeg(file_bytes, channels = 3)\n",
    "        else:\n",
    "            raise ValueError(\"Image extension not supported\")\n",
    "\n",
    "        img = tf.cast(img, tf.float32) / 255.0\n",
    "        img = tf.image.resize(img, target_size)\n",
    "\n",
    "        return img\n",
    "    \n",
    "    def decode_with_labels(path, label):\n",
    "        return decode(path), label\n",
    "    \n",
    "    return decode_with_labels if with_labels else decode\n",
    "\n",
    "\n",
    "def build_augmenter(with_labels = True):\n",
    "    def augment(img):\n",
    "        img = tf.image.random_flip_left_right(img)\n",
    "        img = tf.image.random_flip_up_down(img)\n",
    "        \n",
    "        p_rotate = tf.random.uniform([], 0, 1.0, dtype = tf.float32)\n",
    "        p_pixel_1 = tf.random.uniform([], 0, 1.0, dtype = tf.float32)\n",
    "        p_pixel_2 = tf.random.uniform([], 0, 1.0, dtype = tf.float32)\n",
    "        p_pixel_3 = tf.random.uniform([], 0, 1.0, dtype = tf.float32)\n",
    "        p_crop = tf.random.uniform([], 0, 1.0, dtype = tf.float32)\n",
    "    \n",
    "        if p_rotate > .75:\n",
    "            img = tf.image.rot90(img, k = 3) # rotate 270º\n",
    "        elif p_rotate > .5:\n",
    "            img = tf.image.rot90(img, k = 2) # rotate 180º\n",
    "        elif p_rotate > .25:\n",
    "            img = tf.image.rot90(img, k = 1) # rotate 90º\n",
    "            \n",
    "        if p_pixel_1 >= .4:\n",
    "            img = tf.image.random_saturation(img, lower = 0.7, upper = 1.3)\n",
    "        if p_pixel_2 >= .4:\n",
    "            img = tf.image.random_contrast(img, lower = 0.7, upper = 1.3)\n",
    "        if p_pixel_3 >= .4:\n",
    "            img = tf.image.random_brightness(img, max_delta = 0.1)\n",
    "        \n",
    "        if p_crop > .7:\n",
    "            if p_crop > .9:\n",
    "                img = tf.image.central_crop(img, central_fraction=.7)\n",
    "            elif p_crop > .8:\n",
    "                img = tf.image.central_crop(img, central_fraction=.8)\n",
    "            else:\n",
    "                img = tf.image.central_crop(img, central_fraction=.9)\n",
    "        elif p_crop > .4:\n",
    "            crop_size = tf.random.uniform([], int(TARGET_SIZE * .8), TARGET_SIZE, dtype = tf.int32)\n",
    "            img = tf.image.random_crop(img, size = [crop_size, crop_size, 3])\n",
    "        \n",
    "        img = tf.image.resize(img, size = [TARGET_SIZE, TARGET_SIZE])\n",
    "            \n",
    "        return img\n",
    "    \n",
    "    def augment_with_labels(img, label):\n",
    "        return augment(img), label\n",
    "    \n",
    "    return augment_with_labels if with_labels else augment\n",
    "\n",
    "\n",
    "def build_dataset(paths, labels = None, bsize = 32, cache = True,\n",
    "                  decode_fn = None, augment_fn = None,\n",
    "                  augment = True, repeat = True, shuffle = 1024, \n",
    "                  cache_dir = \"\"):\n",
    "    if cache_dir != \"\" and cache is True:\n",
    "        os.makedirs(cache_dir, exist_ok=True)\n",
    "    \n",
    "    if decode_fn is None:\n",
    "        decode_fn = build_decoder(labels is not None)\n",
    "    \n",
    "    if augment_fn is None:\n",
    "        augment_fn = build_augmenter(labels is not None)\n",
    "    \n",
    "    AUTO = tf.data.experimental.AUTOTUNE\n",
    "    slices = paths if labels is None else (paths, labels)\n",
    "    \n",
    "    dset = tf.data.Dataset.from_tensor_slices(slices)\n",
    "    dset = dset.map(decode_fn, num_parallel_calls = AUTO)\n",
    "    dset = dset.cache(cache_dir) if cache else dset\n",
    "    dset = dset.map(augment_fn, num_parallel_calls = AUTO) if augment else dset\n",
    "    dset = dset.repeat() if repeat else dset\n",
    "    dset = dset.shuffle(shuffle) if shuffle else dset\n",
    "    dset = dset.batch(bsize).prefetch(AUTO)\n",
    "    \n",
    "    return dset\n",
    "\n",
    "\n",
    "# Visualization of CNN intermediate activations\n",
    "def activation_layer_vis(img, activation_layer = 0, layers = 10):\n",
    "    layer_outputs = [layer.output for layer in model.layers[:layers]]\n",
    "    activation_model = models.Model(inputs = model.input, outputs = layer_outputs)\n",
    "    activations = activation_model.predict(img)\n",
    "    \n",
    "    rows = int(activations[activation_layer].shape[3] / 3)\n",
    "    cols = int(activations[activation_layer].shape[3] / rows)\n",
    "    fig, axes = plt.subplots(rows, cols, figsize = (15, 15 * cols))\n",
    "    axes = axes.flatten()\n",
    "    \n",
    "    for i, ax in zip(range(activations[activation_layer].shape[3]), axes):\n",
    "        ax.matshow(activations[activation_layer][0, :, :, i], cmap = 'viridis')\n",
    "        ax.axis('off')\n",
    "    plt.tight_layout()\n",
    "    plt.show()\n",
    "\n",
    "def all_activations_vis(img, layers = 10):\n",
    "    layer_outputs = [layer.output for layer in model.layers[:layers]]\n",
    "    activation_model = models.Model(inputs = model.input, outputs = layer_outputs)\n",
    "    activations = activation_model.predict(img)\n",
    "    \n",
    "    layer_names = []\n",
    "    for layer in model.layers[:layers]: \n",
    "        layer_names.append(layer.name) \n",
    "\n",
    "    images_per_row = 3\n",
    "    for layer_name, layer_activation in zip(layer_names, activations): \n",
    "        n_features = layer_activation.shape[-1] \n",
    "\n",
    "        size = layer_activation.shape[1] \n",
    "\n",
    "        n_cols = n_features // images_per_row \n",
    "        display_grid = np.zeros((size * n_cols, images_per_row * size)) \n",
    "\n",
    "        for col in range(n_cols): \n",
    "            for row in range(images_per_row): \n",
    "                channel_image = layer_activation[0, :, :, col * images_per_row + row] \n",
    "                channel_image -= channel_image.mean() \n",
    "                channel_image /= channel_image.std() \n",
    "                channel_image *= 64 \n",
    "                channel_image += 128 \n",
    "                channel_image = np.clip(channel_image, 0, 255).astype('uint8') \n",
    "                display_grid[col * size : (col + 1) * size, \n",
    "                             row * size : (row + 1) * size] = channel_image \n",
    "        scale = 1. / size \n",
    "        plt.figure(figsize=(scale * 5 * display_grid.shape[1], \n",
    "                            scale * 5 * display_grid.shape[0])) \n",
    "        plt.title(layer_name) \n",
    "        plt.grid(False)\n",
    "        plt.axis('off')\n",
    "        plt.imshow(display_grid, aspect = 'auto', cmap = 'viridis')"
   ]
  },
  {
   "cell_type": "code",
   "execution_count": 16,
   "metadata": {
    "execution": {
     "iopub.execute_input": "2021-02-18T16:41:31.619988Z",
     "iopub.status.busy": "2021-02-18T16:41:31.618975Z",
     "iopub.status.idle": "2021-02-18T16:41:31.622980Z",
     "shell.execute_reply": "2021-02-18T16:41:31.624087Z"
    },
    "papermill": {
     "duration": 0.042656,
     "end_time": "2021-02-18T16:41:31.624396",
     "exception": false,
     "start_time": "2021-02-18T16:41:31.581740",
     "status": "completed"
    },
    "tags": []
   },
   "outputs": [],
   "source": [
    "# # Train test split\n",
    "# (train_img, valid_img, \n",
    "#  train_labels, valid_labels) = train_test_split(train_images, labels, \n",
    "#                                                 train_size = 0.8, \n",
    "#                                                 random_state = 0)"
   ]
  },
  {
   "cell_type": "code",
   "execution_count": 17,
   "metadata": {
    "execution": {
     "iopub.execute_input": "2021-02-18T16:41:31.701315Z",
     "iopub.status.busy": "2021-02-18T16:41:31.700484Z",
     "iopub.status.idle": "2021-02-18T16:41:31.842201Z",
     "shell.execute_reply": "2021-02-18T16:41:31.841552Z"
    },
    "papermill": {
     "duration": 0.184265,
     "end_time": "2021-02-18T16:41:31.842387",
     "exception": false,
     "start_time": "2021-02-18T16:41:31.658122",
     "status": "completed"
    },
    "tags": []
   },
   "outputs": [],
   "source": [
    "# # Tensorflow datasets\n",
    "# train_df = build_dataset(\n",
    "#     train_img, train_labels, bsize = BATCH_SIZE, \n",
    "#     cache = True)\n",
    "\n",
    "# valid_df = build_dataset(\n",
    "#     valid_img, valid_labels, bsize = BATCH_SIZE, \n",
    "#     repeat = False, shuffle = False, augment = False, \n",
    "#     cache = True)\n",
    "\n",
    "test_df = build_dataset(\n",
    "    test_images, bsize = 1, repeat = False, \n",
    "    shuffle = False, augment = False, cache = False)"
   ]
  },
  {
   "cell_type": "code",
   "execution_count": 18,
   "metadata": {
    "execution": {
     "iopub.execute_input": "2021-02-18T16:41:31.913259Z",
     "iopub.status.busy": "2021-02-18T16:41:31.912520Z",
     "iopub.status.idle": "2021-02-18T16:41:31.917173Z",
     "shell.execute_reply": "2021-02-18T16:41:31.917668Z"
    },
    "papermill": {
     "duration": 0.043608,
     "end_time": "2021-02-18T16:41:31.917897",
     "exception": false,
     "start_time": "2021-02-18T16:41:31.874289",
     "status": "completed"
    },
    "tags": []
   },
   "outputs": [
    {
     "data": {
      "text/plain": [
       "<PrefetchDataset shapes: (None, 550, 550, 3), types: tf.float32>"
      ]
     },
     "execution_count": 18,
     "metadata": {},
     "output_type": "execute_result"
    }
   ],
   "source": [
    "test_df"
   ]
  },
  {
   "cell_type": "code",
   "execution_count": 19,
   "metadata": {
    "execution": {
     "iopub.execute_input": "2021-02-18T16:41:31.991515Z",
     "iopub.status.busy": "2021-02-18T16:41:31.990733Z",
     "iopub.status.idle": "2021-02-18T16:41:31.994766Z",
     "shell.execute_reply": "2021-02-18T16:41:31.994177Z"
    },
    "papermill": {
     "duration": 0.044479,
     "end_time": "2021-02-18T16:41:31.994919",
     "exception": false,
     "start_time": "2021-02-18T16:41:31.950440",
     "status": "completed"
    },
    "tags": []
   },
   "outputs": [],
   "source": [
    "def create_model():\n",
    "    conv_base = efn.EfficientNetB4(include_top = False, weights = 'imagenet',\n",
    "                                   input_shape = (TARGET_SIZE, TARGET_SIZE, 3))\n",
    "    model = conv_base.output\n",
    "    model = layers.GlobalAveragePooling2D()(model)\n",
    "    model = layers.Dropout(0.3)(model)\n",
    "    model = layers.Dense(5, activation = \"softmax\")(model)\n",
    "    model = models.Model(conv_base.input, model)\n",
    "\n",
    "    model.compile(optimizer = Adam(lr = 0.00025),\n",
    "                  loss = \"sparse_categorical_crossentropy\",\n",
    "                  metrics = ['sparse_categorical_accuracy'])\n",
    "    return model"
   ]
  },
  {
   "cell_type": "code",
   "execution_count": 20,
   "metadata": {
    "execution": {
     "iopub.execute_input": "2021-02-18T16:41:32.075008Z",
     "iopub.status.busy": "2021-02-18T16:41:32.074276Z",
     "iopub.status.idle": "2021-02-18T19:21:18.413654Z",
     "shell.execute_reply": "2021-02-18T19:21:18.412759Z"
    },
    "papermill": {
     "duration": 9586.385236,
     "end_time": "2021-02-18T19:21:18.413831",
     "exception": false,
     "start_time": "2021-02-18T16:41:32.028595",
     "status": "completed"
    },
    "tags": []
   },
   "outputs": [
    {
     "name": "stdout",
     "output_type": "stream",
     "text": [
      "**************************************************\n",
      "FOLD: 1\n",
      "**************************************************\n",
      "Downloading data from https://github.com/Callidior/keras-applications/releases/download/efficientnet/efficientnet-b4_weights_tf_dim_ordering_tf_kernels_autoaugment_notop.h5\n",
      "71892992/71892840 [==============================] - 1s 0us/step\n",
      "Epoch 1/30\n",
      "267/267 [==============================] - 890s 3s/step - loss: 0.7280 - sparse_categorical_accuracy: 0.7433 - val_loss: 0.4380 - val_sparse_categorical_accuracy: 0.8729\n",
      "Epoch 2/30\n",
      "267/267 [==============================] - 121s 454ms/step - loss: 0.4313 - sparse_categorical_accuracy: 0.8576 - val_loss: 0.3665 - val_sparse_categorical_accuracy: 0.8776\n",
      "Epoch 3/30\n",
      "267/267 [==============================] - 122s 455ms/step - loss: 0.3778 - sparse_categorical_accuracy: 0.8714 - val_loss: 0.3682 - val_sparse_categorical_accuracy: 0.8778\n",
      "Epoch 4/30\n",
      "267/267 [==============================] - 121s 453ms/step - loss: 0.3428 - sparse_categorical_accuracy: 0.8857 - val_loss: 0.3580 - val_sparse_categorical_accuracy: 0.8808\n",
      "Epoch 5/30\n",
      "267/267 [==============================] - 122s 456ms/step - loss: 0.3152 - sparse_categorical_accuracy: 0.8966 - val_loss: 0.3727 - val_sparse_categorical_accuracy: 0.8888\n",
      "Epoch 6/30\n",
      "267/267 [==============================] - 121s 454ms/step - loss: 0.2961 - sparse_categorical_accuracy: 0.8987 - val_loss: 0.3827 - val_sparse_categorical_accuracy: 0.8787\n",
      "\n",
      "Epoch 00006: ReduceLROnPlateau reducing learning rate to 0.0001250000059371814.\n",
      "Epoch 7/30\n",
      "267/267 [==============================] - 122s 454ms/step - loss: 0.2496 - sparse_categorical_accuracy: 0.9139 - val_loss: 0.3704 - val_sparse_categorical_accuracy: 0.8841\n",
      "Epoch 8/30\n",
      "267/267 [==============================] - 121s 451ms/step - loss: 0.2357 - sparse_categorical_accuracy: 0.9170 - val_loss: 0.3807 - val_sparse_categorical_accuracy: 0.8818\n",
      "\n",
      "Epoch 00008: ReduceLROnPlateau reducing learning rate to 6.25000029685907e-05.\n",
      "Epoch 9/30\n",
      "267/267 [==============================] - 121s 453ms/step - loss: 0.2049 - sparse_categorical_accuracy: 0.9262 - val_loss: 0.3842 - val_sparse_categorical_accuracy: 0.8846\n",
      "Restoring model weights from the end of the best epoch.\n",
      "Epoch 00009: early stopping\n",
      "**************************************************\n",
      "FOLD: 2\n",
      "**************************************************\n",
      "Epoch 1/30\n",
      "267/267 [==============================] - 675s 2s/step - loss: 0.7383 - sparse_categorical_accuracy: 0.7369 - val_loss: 0.3793 - val_sparse_categorical_accuracy: 0.8675\n",
      "Epoch 2/30\n",
      "267/267 [==============================] - 121s 451ms/step - loss: 0.4362 - sparse_categorical_accuracy: 0.8560 - val_loss: 0.3634 - val_sparse_categorical_accuracy: 0.8813\n",
      "Epoch 3/30\n",
      "267/267 [==============================] - 121s 454ms/step - loss: 0.3916 - sparse_categorical_accuracy: 0.8686 - val_loss: 0.3640 - val_sparse_categorical_accuracy: 0.8808\n",
      "Epoch 4/30\n",
      "267/267 [==============================] - 121s 453ms/step - loss: 0.3532 - sparse_categorical_accuracy: 0.8794 - val_loss: 0.3369 - val_sparse_categorical_accuracy: 0.8848\n",
      "Epoch 5/30\n",
      "267/267 [==============================] - 122s 455ms/step - loss: 0.3426 - sparse_categorical_accuracy: 0.8873 - val_loss: 0.3494 - val_sparse_categorical_accuracy: 0.8855\n",
      "Epoch 6/30\n",
      "267/267 [==============================] - 121s 452ms/step - loss: 0.3102 - sparse_categorical_accuracy: 0.8922 - val_loss: 0.3426 - val_sparse_categorical_accuracy: 0.8857\n",
      "\n",
      "Epoch 00006: ReduceLROnPlateau reducing learning rate to 0.0001250000059371814.\n",
      "Epoch 7/30\n",
      "267/267 [==============================] - 121s 453ms/step - loss: 0.2690 - sparse_categorical_accuracy: 0.9115 - val_loss: 0.3348 - val_sparse_categorical_accuracy: 0.8928\n",
      "Epoch 8/30\n",
      "267/267 [==============================] - 121s 452ms/step - loss: 0.2506 - sparse_categorical_accuracy: 0.9143 - val_loss: 0.3518 - val_sparse_categorical_accuracy: 0.8876\n",
      "Epoch 9/30\n",
      "267/267 [==============================] - 121s 453ms/step - loss: 0.2330 - sparse_categorical_accuracy: 0.9164 - val_loss: 0.3627 - val_sparse_categorical_accuracy: 0.8825\n",
      "\n",
      "Epoch 00009: ReduceLROnPlateau reducing learning rate to 6.25000029685907e-05.\n",
      "Epoch 10/30\n",
      "267/267 [==============================] - 121s 453ms/step - loss: 0.2021 - sparse_categorical_accuracy: 0.9296 - val_loss: 0.3534 - val_sparse_categorical_accuracy: 0.8972\n",
      "Epoch 11/30\n",
      "267/267 [==============================] - 122s 455ms/step - loss: 0.1758 - sparse_categorical_accuracy: 0.9385 - val_loss: 0.3695 - val_sparse_categorical_accuracy: 0.8900\n",
      "\n",
      "Epoch 00011: ReduceLROnPlateau reducing learning rate to 3.125000148429535e-05.\n",
      "Epoch 12/30\n",
      "267/267 [==============================] - 121s 453ms/step - loss: 0.1605 - sparse_categorical_accuracy: 0.9434 - val_loss: 0.3776 - val_sparse_categorical_accuracy: 0.8909\n",
      "Restoring model weights from the end of the best epoch.\n",
      "Epoch 00012: early stopping\n",
      "**************************************************\n",
      "FOLD: 3\n",
      "**************************************************\n",
      "Epoch 1/30\n",
      "267/267 [==============================] - 653s 2s/step - loss: 0.7277 - sparse_categorical_accuracy: 0.7415 - val_loss: 0.4045 - val_sparse_categorical_accuracy: 0.8661\n",
      "Epoch 2/30\n",
      "267/267 [==============================] - 120s 450ms/step - loss: 0.4286 - sparse_categorical_accuracy: 0.8566 - val_loss: 0.3978 - val_sparse_categorical_accuracy: 0.8570\n",
      "Epoch 3/30\n",
      "267/267 [==============================] - 121s 453ms/step - loss: 0.3784 - sparse_categorical_accuracy: 0.8741 - val_loss: 0.4126 - val_sparse_categorical_accuracy: 0.8670\n",
      "Epoch 4/30\n",
      "267/267 [==============================] - 122s 455ms/step - loss: 0.3427 - sparse_categorical_accuracy: 0.8836 - val_loss: 0.3793 - val_sparse_categorical_accuracy: 0.8722\n",
      "Epoch 5/30\n",
      "267/267 [==============================] - 121s 453ms/step - loss: 0.3215 - sparse_categorical_accuracy: 0.8915 - val_loss: 0.3997 - val_sparse_categorical_accuracy: 0.8803\n",
      "Epoch 6/30\n",
      "267/267 [==============================] - 121s 454ms/step - loss: 0.2949 - sparse_categorical_accuracy: 0.9018 - val_loss: 0.3966 - val_sparse_categorical_accuracy: 0.8787\n",
      "\n",
      "Epoch 00006: ReduceLROnPlateau reducing learning rate to 0.0001250000059371814.\n",
      "Epoch 7/30\n",
      "267/267 [==============================] - 121s 452ms/step - loss: 0.2672 - sparse_categorical_accuracy: 0.9070 - val_loss: 0.3801 - val_sparse_categorical_accuracy: 0.8799\n",
      "Epoch 8/30\n",
      "267/267 [==============================] - 121s 454ms/step - loss: 0.2344 - sparse_categorical_accuracy: 0.9189 - val_loss: 0.4023 - val_sparse_categorical_accuracy: 0.8771\n",
      "\n",
      "Epoch 00008: ReduceLROnPlateau reducing learning rate to 6.25000029685907e-05.\n",
      "Epoch 9/30\n",
      "267/267 [==============================] - 121s 454ms/step - loss: 0.2169 - sparse_categorical_accuracy: 0.9278 - val_loss: 0.3897 - val_sparse_categorical_accuracy: 0.8827\n",
      "Restoring model weights from the end of the best epoch.\n",
      "Epoch 00009: early stopping\n",
      "**************************************************\n",
      "FOLD: 4\n",
      "**************************************************\n",
      "Epoch 1/30\n",
      "267/267 [==============================] - 722s 2s/step - loss: 0.7281 - sparse_categorical_accuracy: 0.7439 - val_loss: 0.4430 - val_sparse_categorical_accuracy: 0.8659\n",
      "Epoch 2/30\n",
      "267/267 [==============================] - 120s 450ms/step - loss: 0.4341 - sparse_categorical_accuracy: 0.8520 - val_loss: 0.3570 - val_sparse_categorical_accuracy: 0.8810\n",
      "Epoch 3/30\n",
      "267/267 [==============================] - 121s 453ms/step - loss: 0.3835 - sparse_categorical_accuracy: 0.8779 - val_loss: 0.3741 - val_sparse_categorical_accuracy: 0.8733\n",
      "Epoch 4/30\n",
      "267/267 [==============================] - 121s 452ms/step - loss: 0.3437 - sparse_categorical_accuracy: 0.8848 - val_loss: 0.3566 - val_sparse_categorical_accuracy: 0.8839\n",
      "\n",
      "Epoch 00004: ReduceLROnPlateau reducing learning rate to 0.0001250000059371814.\n",
      "Epoch 5/30\n",
      "267/267 [==============================] - 121s 451ms/step - loss: 0.3013 - sparse_categorical_accuracy: 0.8989 - val_loss: 0.3469 - val_sparse_categorical_accuracy: 0.8892\n",
      "Epoch 6/30\n",
      "267/267 [==============================] - 121s 452ms/step - loss: 0.2771 - sparse_categorical_accuracy: 0.9095 - val_loss: 0.3592 - val_sparse_categorical_accuracy: 0.8871\n",
      "Epoch 7/30\n",
      "267/267 [==============================] - 121s 451ms/step - loss: 0.2546 - sparse_categorical_accuracy: 0.9135 - val_loss: 0.3458 - val_sparse_categorical_accuracy: 0.8862\n",
      "Epoch 8/30\n",
      "267/267 [==============================] - 121s 451ms/step - loss: 0.2424 - sparse_categorical_accuracy: 0.9171 - val_loss: 0.3662 - val_sparse_categorical_accuracy: 0.8843\n",
      "Epoch 9/30\n",
      "267/267 [==============================] - 121s 451ms/step - loss: 0.2239 - sparse_categorical_accuracy: 0.9230 - val_loss: 0.3907 - val_sparse_categorical_accuracy: 0.8862\n",
      "\n",
      "Epoch 00009: ReduceLROnPlateau reducing learning rate to 6.25000029685907e-05.\n",
      "Epoch 10/30\n",
      "267/267 [==============================] - 121s 452ms/step - loss: 0.2116 - sparse_categorical_accuracy: 0.9289 - val_loss: 0.3884 - val_sparse_categorical_accuracy: 0.8862\n",
      "Epoch 11/30\n",
      "267/267 [==============================] - 121s 453ms/step - loss: 0.1880 - sparse_categorical_accuracy: 0.9356 - val_loss: 0.4014 - val_sparse_categorical_accuracy: 0.8846\n",
      "\n",
      "Epoch 00011: ReduceLROnPlateau reducing learning rate to 3.125000148429535e-05.\n",
      "Epoch 12/30\n",
      "267/267 [==============================] - 121s 453ms/step - loss: 0.1721 - sparse_categorical_accuracy: 0.9405 - val_loss: 0.4180 - val_sparse_categorical_accuracy: 0.8813\n",
      "Restoring model weights from the end of the best epoch.\n",
      "Epoch 00012: early stopping\n",
      "**************************************************\n",
      "FOLD: 5\n",
      "**************************************************\n",
      "Epoch 1/30\n",
      "267/267 [==============================] - 664s 2s/step - loss: 0.7283 - sparse_categorical_accuracy: 0.7417 - val_loss: 0.4143 - val_sparse_categorical_accuracy: 0.8635\n",
      "Epoch 2/30\n",
      "267/267 [==============================] - 121s 452ms/step - loss: 0.4309 - sparse_categorical_accuracy: 0.8551 - val_loss: 0.3627 - val_sparse_categorical_accuracy: 0.8801\n",
      "Epoch 3/30\n",
      "267/267 [==============================] - 120s 451ms/step - loss: 0.3814 - sparse_categorical_accuracy: 0.8737 - val_loss: 0.3772 - val_sparse_categorical_accuracy: 0.8750\n",
      "Epoch 4/30\n",
      "267/267 [==============================] - 121s 451ms/step - loss: 0.3553 - sparse_categorical_accuracy: 0.8824 - val_loss: 0.3433 - val_sparse_categorical_accuracy: 0.8869\n",
      "Epoch 5/30\n",
      "267/267 [==============================] - 121s 451ms/step - loss: 0.3279 - sparse_categorical_accuracy: 0.8920 - val_loss: 0.3357 - val_sparse_categorical_accuracy: 0.8878\n",
      "Epoch 6/30\n",
      "267/267 [==============================] - 121s 452ms/step - loss: 0.2954 - sparse_categorical_accuracy: 0.8966 - val_loss: 0.3590 - val_sparse_categorical_accuracy: 0.8885\n",
      "Epoch 7/30\n",
      "267/267 [==============================] - 121s 454ms/step - loss: 0.2863 - sparse_categorical_accuracy: 0.9007 - val_loss: 0.3758 - val_sparse_categorical_accuracy: 0.8757\n",
      "\n",
      "Epoch 00007: ReduceLROnPlateau reducing learning rate to 0.0001250000059371814.\n",
      "Epoch 8/30\n",
      "267/267 [==============================] - 121s 454ms/step - loss: 0.2557 - sparse_categorical_accuracy: 0.9128 - val_loss: 0.3719 - val_sparse_categorical_accuracy: 0.8876\n",
      "Epoch 9/30\n",
      "267/267 [==============================] - 121s 452ms/step - loss: 0.2287 - sparse_categorical_accuracy: 0.9224 - val_loss: 0.3642 - val_sparse_categorical_accuracy: 0.8853\n",
      "\n",
      "Epoch 00009: ReduceLROnPlateau reducing learning rate to 6.25000029685907e-05.\n",
      "Epoch 10/30\n",
      "267/267 [==============================] - 121s 452ms/step - loss: 0.1915 - sparse_categorical_accuracy: 0.9328 - val_loss: 0.3698 - val_sparse_categorical_accuracy: 0.8843\n",
      "Restoring model weights from the end of the best epoch.\n",
      "Epoch 00010: early stopping\n"
     ]
    }
   ],
   "source": [
    "FOLDS = 5\n",
    "kf = KFold(n_splits = FOLDS, shuffle = True, random_state = 0)\n",
    "history_list = []\n",
    "preds = [np.zeros((len(ss), 5))]\n",
    "\n",
    "for fold, (t_ind, v_ind) in enumerate(kf.split(train_images)):\n",
    "    print('*'*50)\n",
    "    print(f'FOLD: {fold + 1}')\n",
    "    print('*'*50)\n",
    "    \n",
    "    # Tensorflow datasets\n",
    "    train_df = build_dataset(\n",
    "        train_images[t_ind], labels[t_ind], bsize = BATCH_SIZE, \n",
    "        cache = True)\n",
    "\n",
    "    valid_df = build_dataset(\n",
    "        train_images[v_ind], labels[v_ind], bsize = BATCH_SIZE, \n",
    "        repeat = False, shuffle = False, augment = False, \n",
    "        cache = True)\n",
    "    \n",
    "    # Training\n",
    "    tf.keras.backend.clear_session()\n",
    "    with strategy.scope():\n",
    "        model = create_model()\n",
    "\n",
    "    \n",
    "    early_stop = EarlyStopping(monitor = 'val_loss', min_delta = 0.001, \n",
    "                               patience = 5, mode = 'min', verbose = 1,\n",
    "                               restore_best_weights = True)\n",
    "    reduce_lr = ReduceLROnPlateau(monitor = 'val_loss', factor = 0.5, \n",
    "                                  patience = 2, min_delta = 0.001, \n",
    "                                  mode = 'min', verbose = 1)\n",
    "    \n",
    "    history = model.fit(\n",
    "        train_df,\n",
    "        epochs = EPOCHS,\n",
    "        steps_per_epoch = STEPS_PER_EPOCH,\n",
    "        validation_data = valid_df,\n",
    "        validation_steps = VALIDATION_STEPS,\n",
    "        callbacks = [early_stop, reduce_lr]\n",
    "    )\n",
    "    \n",
    "    history_list.append(history)\n",
    "    \n",
    "    model_name = f'EffNetB4_550_TPU_{fold}.h5'\n",
    "    model.save(model_name)\n",
    "    \n",
    "    # Prediction\n",
    "    preds += model.predict(test_df) / FOLDS\n",
    "    \n",
    "    del train_df, valid_df, model\n",
    "    gc.collect()"
   ]
  },
  {
   "cell_type": "code",
   "execution_count": 21,
   "metadata": {
    "_kg_hide-input": true,
    "execution": {
     "iopub.execute_input": "2021-02-18T19:21:27.153879Z",
     "iopub.status.busy": "2021-02-18T19:21:27.152740Z",
     "iopub.status.idle": "2021-02-18T19:21:27.563424Z",
     "shell.execute_reply": "2021-02-18T19:21:27.562537Z"
    },
    "papermill": {
     "duration": 4.839003,
     "end_time": "2021-02-18T19:21:27.563597",
     "exception": false,
     "start_time": "2021-02-18T19:21:22.724594",
     "status": "completed"
    },
    "tags": []
   },
   "outputs": [
    {
     "data": {
      "image/png": "[encoded data removed]",
      "text/plain": [
       "<Figure size 1080x360 with 2 Axes>"
      ]
     },
     "metadata": {
      "needs_background": "light"
     },
     "output_type": "display_data"
    }
   ],
   "source": [
    "acc = history_list[0].history['sparse_categorical_accuracy']\n",
    "val_acc = history_list[0].history['val_sparse_categorical_accuracy']\n",
    "loss = history_list[0].history['loss']\n",
    "val_loss = history_list[0].history['val_loss']\n",
    "\n",
    "epochs = range(1, len(acc) + 1)\n",
    "\n",
    "fig, (ax1, ax2) = plt.subplots(1, 2, figsize=(15, 5))\n",
    "sns.set_style(\"white\")\n",
    "plt.suptitle('Train history', size = 15)\n",
    "\n",
    "ax1.plot(epochs, acc, \"bo\", label = \"Training acc\")\n",
    "ax1.plot(epochs, val_acc, \"b\", label = \"Validation acc\")\n",
    "ax1.set_title(\"Training and validation acc\")\n",
    "ax1.legend()\n",
    "\n",
    "ax2.plot(epochs, loss, \"bo\", label = \"Training loss\", color = 'red')\n",
    "ax2.plot(epochs, val_loss, \"b\", label = \"Validation loss\", color = 'red')\n",
    "ax2.set_title(\"Training and validation loss\")\n",
    "ax2.legend()\n",
    "\n",
    "plt.show()"
   ]
  },
  {
   "cell_type": "code",
   "execution_count": 22,
   "metadata": {
    "_kg_hide-input": true,
    "execution": {
     "iopub.execute_input": "2021-02-18T19:21:36.311675Z",
     "iopub.status.busy": "2021-02-18T19:21:36.310758Z",
     "iopub.status.idle": "2021-02-18T19:21:36.736998Z",
     "shell.execute_reply": "2021-02-18T19:21:36.736368Z"
    },
    "papermill": {
     "duration": 4.801355,
     "end_time": "2021-02-18T19:21:36.737191",
     "exception": false,
     "start_time": "2021-02-18T19:21:31.935836",
     "status": "completed"
    },
    "tags": []
   },
   "outputs": [
    {
     "data": {
      "image/png": "[encoded data removed]",
      "text/plain": [
       "<Figure size 1080x360 with 2 Axes>"
      ]
     },
     "metadata": {},
     "output_type": "display_data"
    }
   ],
   "source": [
    "acc = history_list[1].history['sparse_categorical_accuracy']\n",
    "val_acc = history_list[1].history['val_sparse_categorical_accuracy']\n",
    "loss = history_list[1].history['loss']\n",
    "val_loss = history_list[1].history['val_loss']\n",
    "\n",
    "epochs = range(1, len(acc) + 1)\n",
    "\n",
    "fig, (ax1, ax2) = plt.subplots(1, 2, figsize=(15, 5))\n",
    "sns.set_style(\"white\")\n",
    "plt.suptitle('Train history', size = 15)\n",
    "\n",
    "ax1.plot(epochs, acc, \"bo\", label = \"Training acc\")\n",
    "ax1.plot(epochs, val_acc, \"b\", label = \"Validation acc\")\n",
    "ax1.set_title(\"Training and validation acc\")\n",
    "ax1.legend()\n",
    "\n",
    "ax2.plot(epochs, loss, \"bo\", label = \"Training loss\", color = 'red')\n",
    "ax2.plot(epochs, val_loss, \"b\", label = \"Validation loss\", color = 'red')\n",
    "ax2.set_title(\"Training and validation loss\")\n",
    "ax2.legend()\n",
    "\n",
    "plt.show()"
   ]
  },
  {
   "cell_type": "code",
   "execution_count": 23,
   "metadata": {
    "_kg_hide-input": true,
    "execution": {
     "iopub.execute_input": "2021-02-18T19:21:45.740649Z",
     "iopub.status.busy": "2021-02-18T19:21:45.722081Z",
     "iopub.status.idle": "2021-02-18T19:21:46.237725Z",
     "shell.execute_reply": "2021-02-18T19:21:46.236952Z"
    },
    "papermill": {
     "duration": 5.03349,
     "end_time": "2021-02-18T19:21:46.237907",
     "exception": false,
     "start_time": "2021-02-18T19:21:41.204417",
     "status": "completed"
    },
    "tags": []
   },
   "outputs": [
    {
     "data": {
      "image/png": "[encoded data removed]",
      "text/plain": [
       "<Figure size 1080x360 with 2 Axes>"
      ]
     },
     "metadata": {},
     "output_type": "display_data"
    }
   ],
   "source": [
    "acc = history_list[2].history['sparse_categorical_accuracy']\n",
    "val_acc = history_list[2].history['val_sparse_categorical_accuracy']\n",
    "loss = history_list[2].history['loss']\n",
    "val_loss = history_list[2].history['val_loss']\n",
    "\n",
    "epochs = range(1, len(acc) + 1)\n",
    "\n",
    "fig, (ax1, ax2) = plt.subplots(1, 2, figsize=(15, 5))\n",
    "sns.set_style(\"white\")\n",
    "plt.suptitle('Train history', size = 15)\n",
    "\n",
    "ax1.plot(epochs, acc, \"bo\", label = \"Training acc\")\n",
    "ax1.plot(epochs, val_acc, \"b\", label = \"Validation acc\")\n",
    "ax1.set_title(\"Training and validation acc\")\n",
    "ax1.legend()\n",
    "\n",
    "ax2.plot(epochs, loss, \"bo\", label = \"Training loss\", color = 'red')\n",
    "ax2.plot(epochs, val_loss, \"b\", label = \"Validation loss\", color = 'red')\n",
    "ax2.set_title(\"Training and validation loss\")\n",
    "ax2.legend()\n",
    "\n",
    "plt.show()"
   ]
  },
  {
   "cell_type": "code",
   "execution_count": 24,
   "metadata": {
    "_kg_hide-input": true,
    "execution": {
     "iopub.execute_input": "2021-02-18T19:21:55.085600Z",
     "iopub.status.busy": "2021-02-18T19:21:55.083125Z",
     "iopub.status.idle": "2021-02-18T19:21:55.497344Z",
     "shell.execute_reply": "2021-02-18T19:21:55.496634Z"
    },
    "papermill": {
     "duration": 4.88932,
     "end_time": "2021-02-18T19:21:55.497506",
     "exception": false,
     "start_time": "2021-02-18T19:21:50.608186",
     "status": "completed"
    },
    "tags": []
   },
   "outputs": [
    {
     "data": {
      "image/png": "[encoded data removed]",
      "text/plain": [
       "<Figure size 1080x360 with 2 Axes>"
      ]
     },
     "metadata": {},
     "output_type": "display_data"
    }
   ],
   "source": [
    "acc = history_list[3].history['sparse_categorical_accuracy']\n",
    "val_acc = history_list[3].history['val_sparse_categorical_accuracy']\n",
    "loss = history_list[3].history['loss']\n",
    "val_loss = history_list[3].history['val_loss']\n",
    "\n",
    "epochs = range(1, len(acc) + 1)\n",
    "\n",
    "fig, (ax1, ax2) = plt.subplots(1, 2, figsize=(15, 5))\n",
    "sns.set_style(\"white\")\n",
    "plt.suptitle('Train history', size = 15)\n",
    "\n",
    "ax1.plot(epochs, acc, \"bo\", label = \"Training acc\")\n",
    "ax1.plot(epochs, val_acc, \"b\", label = \"Validation acc\")\n",
    "ax1.set_title(\"Training and validation acc\")\n",
    "ax1.legend()\n",
    "\n",
    "ax2.plot(epochs, loss, \"bo\", label = \"Training loss\", color = 'red')\n",
    "ax2.plot(epochs, val_loss, \"b\", label = \"Validation loss\", color = 'red')\n",
    "ax2.set_title(\"Training and validation loss\")\n",
    "ax2.legend()\n",
    "\n",
    "plt.show()"
   ]
  },
  {
   "cell_type": "code",
   "execution_count": 25,
   "metadata": {
    "_kg_hide-input": true,
    "execution": {
     "iopub.execute_input": "2021-02-18T19:22:04.319920Z",
     "iopub.status.busy": "2021-02-18T19:22:04.318510Z",
     "iopub.status.idle": "2021-02-18T19:22:04.767870Z",
     "shell.execute_reply": "2021-02-18T19:22:04.768511Z"
    },
    "papermill": {
     "duration": 4.922848,
     "end_time": "2021-02-18T19:22:04.768732",
     "exception": false,
     "start_time": "2021-02-18T19:21:59.845884",
     "status": "completed"
    },
    "tags": []
   },
   "outputs": [
    {
     "data": {
      "image/png": "[encoded data removed]",
      "text/plain": [
       "<Figure size 1080x360 with 2 Axes>"
      ]
     },
     "metadata": {},
     "output_type": "display_data"
    }
   ],
   "source": [
    "acc = history_list[4].history['sparse_categorical_accuracy']\n",
    "val_acc = history_list[4].history['val_sparse_categorical_accuracy']\n",
    "loss = history_list[4].history['loss']\n",
    "val_loss = history_list[4].history['val_loss']\n",
    "\n",
    "epochs = range(1, len(acc) + 1)\n",
    "\n",
    "fig, (ax1, ax2) = plt.subplots(1, 2, figsize=(15, 5))\n",
    "sns.set_style(\"white\")\n",
    "plt.suptitle('Train history', size = 15)\n",
    "\n",
    "ax1.plot(epochs, acc, \"bo\", label = \"Training acc\")\n",
    "ax1.plot(epochs, val_acc, \"b\", label = \"Validation acc\")\n",
    "ax1.set_title(\"Training and validation acc\")\n",
    "ax1.legend()\n",
    "\n",
    "ax2.plot(epochs, loss, \"bo\", label = \"Training loss\", color = 'red')\n",
    "ax2.plot(epochs, val_loss, \"b\", label = \"Validation loss\", color = 'red')\n",
    "ax2.set_title(\"Training and validation loss\")\n",
    "ax2.legend()\n",
    "\n",
    "plt.show()"
   ]
  },
  {
   "cell_type": "code",
   "execution_count": 26,
   "metadata": {
    "execution": {
     "iopub.execute_input": "2021-02-18T19:22:13.594118Z",
     "iopub.status.busy": "2021-02-18T19:22:13.592929Z",
     "iopub.status.idle": "2021-02-18T19:22:13.613516Z",
     "shell.execute_reply": "2021-02-18T19:22:13.612886Z"
    },
    "papermill": {
     "duration": 4.447157,
     "end_time": "2021-02-18T19:22:13.613716",
     "exception": false,
     "start_time": "2021-02-18T19:22:09.166559",
     "status": "completed"
    },
    "tags": []
   },
   "outputs": [
    {
     "data": {
      "text/html": [
       "<div>\n",
       "<style scoped>\n",
       "    .dataframe tbody tr th:only-of-type {\n",
       "        vertical-align: middle;\n",
       "    }\n",
       "\n",
       "    .dataframe tbody tr th {\n",
       "        vertical-align: top;\n",
       "    }\n",
       "\n",
       "    .dataframe thead th {\n",
       "        text-align: right;\n",
       "    }\n",
       "</style>\n",
       "<table border=\"1\" class=\"dataframe\">\n",
       "  <thead>\n",
       "    <tr style=\"text-align: right;\">\n",
       "      <th></th>\n",
       "      <th>image_id</th>\n",
       "      <th>label</th>\n",
       "    </tr>\n",
       "  </thead>\n",
       "  <tbody>\n",
       "    <tr>\n",
       "      <th>0</th>\n",
       "      <td>2216849948.jpg</td>\n",
       "      <td>4</td>\n",
       "    </tr>\n",
       "  </tbody>\n",
       "</table>\n",
       "</div>"
      ],
      "text/plain": [
       "         image_id  label\n",
       "0  2216849948.jpg      4"
      ]
     },
     "execution_count": 26,
     "metadata": {},
     "output_type": "execute_result"
    }
   ],
   "source": [
    "ss['label'] = np.argmax(preds, axis = -1)\n",
    "ss.to_csv('submission.csv', index = False)\n",
    "ss"
   ]
  },
  {
   "cell_type": "code",
   "execution_count": 27,
   "metadata": {
    "_kg_hide-output": true,
    "execution": {
     "iopub.execute_input": "2021-02-18T19:22:22.463732Z",
     "iopub.status.busy": "2021-02-18T19:22:22.462909Z",
     "iopub.status.idle": "2021-02-18T19:22:22.466626Z",
     "shell.execute_reply": "2021-02-18T19:22:22.467252Z"
    },
    "papermill": {
     "duration": 4.491845,
     "end_time": "2021-02-18T19:22:22.467455",
     "exception": false,
     "start_time": "2021-02-18T19:22:17.975610",
     "status": "completed"
    },
    "tags": []
   },
   "outputs": [],
   "source": [
    "# with strategy.scope():\n",
    "#     model = create_model()\n",
    "    \n",
    "# model.summary()"
   ]
  },
  {
   "cell_type": "code",
   "execution_count": 28,
   "metadata": {
    "_kg_hide-input": true,
    "execution": {
     "iopub.execute_input": "2021-02-18T19:22:31.159226Z",
     "iopub.status.busy": "2021-02-18T19:22:31.158482Z",
     "iopub.status.idle": "2021-02-18T19:22:31.161087Z",
     "shell.execute_reply": "2021-02-18T19:22:31.161585Z"
    },
    "papermill": {
     "duration": 4.321836,
     "end_time": "2021-02-18T19:22:31.161803",
     "exception": false,
     "start_time": "2021-02-18T19:22:26.839967",
     "status": "completed"
    },
    "tags": []
   },
   "outputs": [],
   "source": [
    "# print('Our EfficientNet CNN has %d layers' %len(model.layers))"
   ]
  },
  {
   "cell_type": "code",
   "execution_count": 29,
   "metadata": {
    "execution": {
     "iopub.execute_input": "2021-02-18T19:22:40.003154Z",
     "iopub.status.busy": "2021-02-18T19:22:40.001965Z",
     "iopub.status.idle": "2021-02-18T19:22:40.008499Z",
     "shell.execute_reply": "2021-02-18T19:22:40.007853Z"
    },
    "papermill": {
     "duration": 4.415428,
     "end_time": "2021-02-18T19:22:40.008690",
     "exception": false,
     "start_time": "2021-02-18T19:22:35.593262",
     "status": "completed"
    },
    "tags": []
   },
   "outputs": [],
   "source": [
    "# model_save = ModelCheckpoint('./Efnet_600_B7_best_weights_TPU.h5', \n",
    "#                              save_best_only = True, \n",
    "#                              save_weights_only = True,\n",
    "#                              monitor = 'val_loss', \n",
    "#                              mode = 'min', verbose = 1)\n",
    "# early_stop = EarlyStopping(monitor = 'val_loss', min_delta = 0.0001, \n",
    "#                            patience = 5, mode = 'min', verbose = 1,\n",
    "#                            restore_best_weights = True)\n",
    "# reduce_lr = ReduceLROnPlateau(monitor = 'val_loss', factor = 0.5, \n",
    "#                               patience = 2, min_delta = 0.0001, \n",
    "#                               mode = 'min', verbose = 1)\n",
    "\n",
    "\n",
    "# history = model.fit(\n",
    "#     train_df,\n",
    "#     epochs = EPOCHS,\n",
    "#     steps_per_epoch = STEPS_PER_EPOCH,\n",
    "#     validation_data = valid_df,\n",
    "#     validation_steps = VALIDATION_STEPS,\n",
    "#     callbacks = [model_save, early_stop, reduce_lr]\n",
    "# )"
   ]
  },
  {
   "cell_type": "code",
   "execution_count": 30,
   "metadata": {
    "_kg_hide-input": true,
    "execution": {
     "iopub.execute_input": "2021-02-18T19:22:48.880901Z",
     "iopub.status.busy": "2021-02-18T19:22:48.880108Z",
     "iopub.status.idle": "2021-02-18T19:22:48.883789Z",
     "shell.execute_reply": "2021-02-18T19:22:48.883228Z"
    },
    "papermill": {
     "duration": 4.534477,
     "end_time": "2021-02-18T19:22:48.883963",
     "exception": false,
     "start_time": "2021-02-18T19:22:44.349486",
     "status": "completed"
    },
    "tags": []
   },
   "outputs": [],
   "source": [
    "# acc = history.history['sparse_categorical_accuracy']\n",
    "# val_acc = history.history['val_sparse_categorical_accuracy']\n",
    "# loss = history.history['loss']\n",
    "# val_loss = history.history['val_loss']\n",
    "\n",
    "# epochs = range(1, len(acc) + 1)\n",
    "\n",
    "# fig, (ax1, ax2) = plt.subplots(1, 2, figsize=(15, 5))\n",
    "# sns.set_style(\"white\")\n",
    "# plt.suptitle('Train history', size = 15)\n",
    "\n",
    "# ax1.plot(epochs, acc, \"bo\", label = \"Training acc\")\n",
    "# ax1.plot(epochs, val_acc, \"b\", label = \"Validation acc\")\n",
    "# ax1.set_title(\"Training and validation acc\")\n",
    "# ax1.legend()\n",
    "\n",
    "# ax2.plot(epochs, loss, \"bo\", label = \"Training loss\", color = 'red')\n",
    "# ax2.plot(epochs, val_loss, \"b\", label = \"Validation loss\", color = 'red')\n",
    "# ax2.set_title(\"Training and validation loss\")\n",
    "# ax2.legend()\n",
    "\n",
    "# plt.show()"
   ]
  },
  {
   "cell_type": "code",
   "execution_count": 31,
   "metadata": {
    "execution": {
     "iopub.execute_input": "2021-02-18T19:22:57.573024Z",
     "iopub.status.busy": "2021-02-18T19:22:57.572317Z",
     "iopub.status.idle": "2021-02-18T19:22:57.575258Z",
     "shell.execute_reply": "2021-02-18T19:22:57.574616Z"
    },
    "papermill": {
     "duration": 4.343825,
     "end_time": "2021-02-18T19:22:57.575424",
     "exception": false,
     "start_time": "2021-02-18T19:22:53.231599",
     "status": "completed"
    },
    "tags": []
   },
   "outputs": [],
   "source": [
    "# model.save('./EffNetB7_600_TPU.h5')"
   ]
  },
  {
   "cell_type": "markdown",
   "metadata": {
    "papermill": {
     "duration": 4.441972,
     "end_time": "2021-02-18T19:23:06.451664",
     "exception": false,
     "start_time": "2021-02-18T19:23:02.009692",
     "status": "completed"
    },
    "tags": []
   },
   "source": [
    "### Visualization of the first layer"
   ]
  },
  {
   "cell_type": "code",
   "execution_count": 32,
   "metadata": {
    "execution": {
     "iopub.execute_input": "2021-02-18T19:23:15.238484Z",
     "iopub.status.busy": "2021-02-18T19:23:15.237737Z",
     "iopub.status.idle": "2021-02-18T19:23:15.241255Z",
     "shell.execute_reply": "2021-02-18T19:23:15.240701Z"
    },
    "papermill": {
     "duration": 4.415591,
     "end_time": "2021-02-18T19:23:15.241418",
     "exception": false,
     "start_time": "2021-02-18T19:23:10.825827",
     "status": "completed"
    },
    "tags": []
   },
   "outputs": [],
   "source": [
    "# train_labels = pd.read_csv(os.path.join(WORK_DIR, \"train.csv\"))\n",
    "# img_path = os.path.join(WORK_DIR, \"train_images\", train_labels.image_id[20])\n",
    "# img = image.load_img(img_path, target_size = (TARGET_SIZE, TARGET_SIZE))\n",
    "# img_tensor = image.img_to_array(img)\n",
    "# img_tensor = np.expand_dims(img_tensor, axis = 0)\n",
    "# img_tensor /= 255.\n",
    "\n",
    "# plt.imshow(img_tensor[0])\n",
    "# plt.axis('off')\n",
    "# plt.show()"
   ]
  },
  {
   "cell_type": "code",
   "execution_count": 33,
   "metadata": {
    "execution": {
     "iopub.execute_input": "2021-02-18T19:23:24.298049Z",
     "iopub.status.busy": "2021-02-18T19:23:24.297142Z",
     "iopub.status.idle": "2021-02-18T19:23:24.300911Z",
     "shell.execute_reply": "2021-02-18T19:23:24.300115Z"
    },
    "papermill": {
     "duration": 4.534053,
     "end_time": "2021-02-18T19:23:24.301100",
     "exception": false,
     "start_time": "2021-02-18T19:23:19.767047",
     "status": "completed"
    },
    "tags": []
   },
   "outputs": [],
   "source": [
    "# activation_layer_vis(img_tensor, 0)"
   ]
  },
  {
   "cell_type": "markdown",
   "metadata": {
    "papermill": {
     "duration": 4.530815,
     "end_time": "2021-02-18T19:23:33.283708",
     "exception": false,
     "start_time": "2021-02-18T19:23:28.752893",
     "status": "completed"
    },
    "tags": []
   },
   "source": [
    "### Visualization of the first 3 layers"
   ]
  },
  {
   "cell_type": "code",
   "execution_count": 34,
   "metadata": {
    "execution": {
     "iopub.execute_input": "2021-02-18T19:23:42.010807Z",
     "iopub.status.busy": "2021-02-18T19:23:42.010083Z",
     "iopub.status.idle": "2021-02-18T19:23:42.012532Z",
     "shell.execute_reply": "2021-02-18T19:23:42.013027Z"
    },
    "papermill": {
     "duration": 4.446814,
     "end_time": "2021-02-18T19:23:42.013259",
     "exception": false,
     "start_time": "2021-02-18T19:23:37.566445",
     "status": "completed"
    },
    "tags": []
   },
   "outputs": [],
   "source": [
    "# all_activations_vis(img_tensor, 3)"
   ]
  },
  {
   "cell_type": "markdown",
   "metadata": {
    "papermill": {
     "duration": 4.396641,
     "end_time": "2021-02-18T19:23:50.764222",
     "exception": false,
     "start_time": "2021-02-18T19:23:46.367581",
     "status": "completed"
    },
    "tags": []
   },
   "source": [
    "## Prediction"
   ]
  },
  {
   "cell_type": "code",
   "execution_count": 35,
   "metadata": {
    "execution": {
     "iopub.execute_input": "2021-02-18T19:23:59.646688Z",
     "iopub.status.busy": "2021-02-18T19:23:59.645805Z",
     "iopub.status.idle": "2021-02-18T19:23:59.649650Z",
     "shell.execute_reply": "2021-02-18T19:23:59.650204Z"
    },
    "papermill": {
     "duration": 4.44153,
     "end_time": "2021-02-18T19:23:59.650445",
     "exception": false,
     "start_time": "2021-02-18T19:23:55.208915",
     "status": "completed"
    },
    "tags": []
   },
   "outputs": [],
   "source": [
    "# ss['label'] = np.argmax(model.predict(test_df), axis = -1)\n",
    "# ss.to_csv('submission.csv', index = False)\n",
    "# ss"
   ]
  },
  {
   "cell_type": "markdown",
   "metadata": {
    "papermill": {
     "duration": 4.424964,
     "end_time": "2021-02-18T19:24:08.435717",
     "exception": false,
     "start_time": "2021-02-18T19:24:04.010753",
     "status": "completed"
    },
    "tags": []
   },
   "source": [
    "## WORK IN PROGRESS..."
   ]
  }
 ],
 "metadata": {
  "kernelspec": {
   "display_name": "Python 3",
   "language": "python",
   "name": "python3"
  },
  "language_info": {
   "codemirror_mode": {
    "name": "ipython",
    "version": 3
   },
   "file_extension": ".py",
   "mimetype": "text/x-python",
   "name": "python",
   "nbconvert_exporter": "python",
   "pygments_lexer": "ipython3",
   "version": "3.7.9"
  },
  "papermill": {
   "default_parameters": {},
   "duration": 9802.607546,
   "end_time": "2021-02-18T19:24:18.047502",
   "environment_variables": {},
   "exception": null,
   "input_path": "__notebook__.ipynb",
   "output_path": "__notebook__.ipynb",
   "parameters": {},
   "start_time": "2021-02-18T16:40:55.439956",
   "version": "2.2.2"
  }
 },
 "nbformat": 4,
 "nbformat_minor": 4
}

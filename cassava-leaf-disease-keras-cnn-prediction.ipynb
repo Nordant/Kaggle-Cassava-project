{
 "cells": [
  {
   "cell_type": "markdown",
   "metadata": {
    "papermill": {
     "duration": 0.008641,
     "end_time": "2021-01-10T10:39:48.325909",
     "exception": false,
     "start_time": "2021-01-10T10:39:48.317268",
     "status": "completed"
    },
    "tags": []
   },
   "source": [
    "# **Cassava Leaf Disease Classification:** \n",
    "# **CNN Keras Baseline Prediction**\n",
    "![Cassava](https://scx2.b-cdn.net/gfx/news/2019/3-geneeditingt.jpg)\n",
    "\n",
    "\n",
    "## The first part of this notebook: [Cassava Leaf Disease: CNN Keras Baseline](https://www.kaggle.com/maksymshkliarevskyi/cassava-leaf-disease-keras-cnn-baseline)\n",
    "\n",
    "## See also the last part of this work with my best CNN: [Cassava Leaf Disease: Best Keras CNN](https://www.kaggle.com/maksymshkliarevskyi/cassava-leaf-disease-best-keras-cnn)"
   ]
  },
  {
   "cell_type": "code",
   "execution_count": 1,
   "metadata": {
    "_cell_guid": "79c7e3d0-c299-4dcb-8224-4455121ee9b0",
    "_uuid": "d629ff2d2480ee46fbb7e2d37f6b5fab8052498a",
    "execution": {
     "iopub.execute_input": "2021-01-10T10:39:48.353564Z",
     "iopub.status.busy": "2021-01-10T10:39:48.352617Z",
     "iopub.status.idle": "2021-01-10T10:39:56.088471Z",
     "shell.execute_reply": "2021-01-10T10:39:56.089031Z"
    },
    "papermill": {
     "duration": 7.75317,
     "end_time": "2021-01-10T10:39:56.089230",
     "exception": false,
     "start_time": "2021-01-10T10:39:48.336060",
     "status": "completed"
    },
    "tags": []
   },
   "outputs": [],
   "source": [
    "import numpy as np\n",
    "import pandas as pd\n",
    "import matplotlib.pyplot as plt\n",
    "import seaborn as sns\n",
    "import datetime\n",
    "\n",
    "from sklearn.model_selection import train_test_split\n",
    "from sklearn.metrics import accuracy_score\n",
    "import tensorflow as tf\n",
    "from tensorflow.keras import models, layers\n",
    "from tensorflow.keras.preprocessing.image import ImageDataGenerator\n",
    "from keras.callbacks import ModelCheckpoint, EarlyStopping, ReduceLROnPlateau\n",
    "from tensorflow.keras.applications import ResNet50, DenseNet121, EfficientNetB0\n",
    "from keras.optimizers import Adam\n",
    "\n",
    "# ignoring warnings\n",
    "import warnings\n",
    "warnings.simplefilter(\"ignore\")\n",
    "\n",
    "import os, cv2, json\n",
    "from PIL import Image"
   ]
  },
  {
   "cell_type": "code",
   "execution_count": 2,
   "metadata": {
    "execution": {
     "iopub.execute_input": "2021-01-10T10:39:56.107639Z",
     "iopub.status.busy": "2021-01-10T10:39:56.106813Z",
     "iopub.status.idle": "2021-01-10T10:39:56.117523Z",
     "shell.execute_reply": "2021-01-10T10:39:56.118109Z"
    },
    "papermill": {
     "duration": 0.021336,
     "end_time": "2021-01-10T10:39:56.118251",
     "exception": false,
     "start_time": "2021-01-10T10:39:56.096915",
     "status": "completed"
    },
    "tags": []
   },
   "outputs": [
    {
     "data": {
      "text/plain": [
       "['train_tfrecords',\n",
       " 'sample_submission.csv',\n",
       " 'test_tfrecords',\n",
       " 'label_num_to_disease_map.json',\n",
       " 'train_images',\n",
       " 'train.csv',\n",
       " 'test_images']"
      ]
     },
     "execution_count": 2,
     "metadata": {},
     "output_type": "execute_result"
    }
   ],
   "source": [
    "TARGET_SIZE = 224\n",
    "\n",
    "WORK_DIR = '../input/cassava-leaf-disease-classification'\n",
    "os.listdir(WORK_DIR)"
   ]
  },
  {
   "cell_type": "code",
   "execution_count": 3,
   "metadata": {
    "execution": {
     "iopub.execute_input": "2021-01-10T10:39:56.137998Z",
     "iopub.status.busy": "2021-01-10T10:39:56.137321Z",
     "iopub.status.idle": "2021-01-10T10:39:59.821905Z",
     "shell.execute_reply": "2021-01-10T10:39:59.822702Z"
    },
    "papermill": {
     "duration": 3.696116,
     "end_time": "2021-01-10T10:39:59.822951",
     "exception": false,
     "start_time": "2021-01-10T10:39:56.126835",
     "status": "completed"
    },
    "tags": []
   },
   "outputs": [
    {
     "name": "stdout",
     "output_type": "stream",
     "text": [
      "Model: \"sequential\"\n",
      "_________________________________________________________________\n",
      "Layer (type)                 Output Shape              Param #   \n",
      "=================================================================\n",
      "efficientnetb0 (Functional)  (None, 7, 7, 1280)        4049571   \n",
      "_________________________________________________________________\n",
      "global_average_pooling2d (Gl (None, 1280)              0         \n",
      "_________________________________________________________________\n",
      "dense (Dense)                (None, 5)                 6405      \n",
      "=================================================================\n",
      "Total params: 4,055,976\n",
      "Trainable params: 4,013,953\n",
      "Non-trainable params: 42,023\n",
      "_________________________________________________________________\n"
     ]
    }
   ],
   "source": [
    "def create_model():\n",
    "    model = models.Sequential()\n",
    "\n",
    "    model.add(EfficientNetB0(include_top = False, weights = None,\n",
    "                             input_shape = (TARGET_SIZE, TARGET_SIZE, 3)))\n",
    "    \n",
    "    model.add(layers.GlobalAveragePooling2D())\n",
    "    model.add(layers.Dense(5, activation = \"softmax\"))\n",
    "\n",
    "    model.compile(optimizer = Adam(lr = 0.001),\n",
    "                  loss = \"sparse_categorical_crossentropy\",\n",
    "                  metrics = [\"acc\"])\n",
    "    return model\n",
    "\n",
    "model = create_model()\n",
    "model.summary()"
   ]
  },
  {
   "cell_type": "code",
   "execution_count": 4,
   "metadata": {
    "execution": {
     "iopub.execute_input": "2021-01-10T10:39:59.862864Z",
     "iopub.status.busy": "2021-01-10T10:39:59.862150Z",
     "iopub.status.idle": "2021-01-10T10:40:00.714727Z",
     "shell.execute_reply": "2021-01-10T10:40:00.714188Z"
    },
    "papermill": {
     "duration": 0.882849,
     "end_time": "2021-01-10T10:40:00.714873",
     "exception": false,
     "start_time": "2021-01-10T10:39:59.832024",
     "status": "completed"
    },
    "tags": []
   },
   "outputs": [],
   "source": [
    "model.load_weights(\"../input/cassava-leaf-disease-keras-cnn-baseline/best_baseline_model.h5\")"
   ]
  },
  {
   "cell_type": "markdown",
   "metadata": {
    "papermill": {
     "duration": 0.007988,
     "end_time": "2021-01-10T10:40:00.731200",
     "exception": false,
     "start_time": "2021-01-10T10:40:00.723212",
     "status": "completed"
    },
    "tags": []
   },
   "source": [
    "# Prediction"
   ]
  },
  {
   "cell_type": "code",
   "execution_count": 5,
   "metadata": {
    "execution": {
     "iopub.execute_input": "2021-01-10T10:40:00.755057Z",
     "iopub.status.busy": "2021-01-10T10:40:00.754366Z",
     "iopub.status.idle": "2021-01-10T10:40:00.781300Z",
     "shell.execute_reply": "2021-01-10T10:40:00.781815Z"
    },
    "papermill": {
     "duration": 0.042534,
     "end_time": "2021-01-10T10:40:00.781983",
     "exception": false,
     "start_time": "2021-01-10T10:40:00.739449",
     "status": "completed"
    },
    "tags": []
   },
   "outputs": [
    {
     "data": {
      "text/html": [
       "<div>\n",
       "<style scoped>\n",
       "    .dataframe tbody tr th:only-of-type {\n",
       "        vertical-align: middle;\n",
       "    }\n",
       "\n",
       "    .dataframe tbody tr th {\n",
       "        vertical-align: top;\n",
       "    }\n",
       "\n",
       "    .dataframe thead th {\n",
       "        text-align: right;\n",
       "    }\n",
       "</style>\n",
       "<table border=\"1\" class=\"dataframe\">\n",
       "  <thead>\n",
       "    <tr style=\"text-align: right;\">\n",
       "      <th></th>\n",
       "      <th>image_id</th>\n",
       "      <th>label</th>\n",
       "    </tr>\n",
       "  </thead>\n",
       "  <tbody>\n",
       "    <tr>\n",
       "      <th>0</th>\n",
       "      <td>2216849948.jpg</td>\n",
       "      <td>4</td>\n",
       "    </tr>\n",
       "  </tbody>\n",
       "</table>\n",
       "</div>"
      ],
      "text/plain": [
       "         image_id  label\n",
       "0  2216849948.jpg      4"
      ]
     },
     "execution_count": 5,
     "metadata": {},
     "output_type": "execute_result"
    }
   ],
   "source": [
    "ss = pd.read_csv(os.path.join(WORK_DIR, \"sample_submission.csv\"))\n",
    "ss"
   ]
  },
  {
   "cell_type": "code",
   "execution_count": 6,
   "metadata": {
    "execution": {
     "iopub.execute_input": "2021-01-10T10:40:00.808835Z",
     "iopub.status.busy": "2021-01-10T10:40:00.808038Z",
     "iopub.status.idle": "2021-01-10T10:40:02.591162Z",
     "shell.execute_reply": "2021-01-10T10:40:02.591984Z"
    },
    "papermill": {
     "duration": 1.801017,
     "end_time": "2021-01-10T10:40:02.592178",
     "exception": false,
     "start_time": "2021-01-10T10:40:00.791161",
     "status": "completed"
    },
    "tags": []
   },
   "outputs": [
    {
     "data": {
      "text/html": [
       "<div>\n",
       "<style scoped>\n",
       "    .dataframe tbody tr th:only-of-type {\n",
       "        vertical-align: middle;\n",
       "    }\n",
       "\n",
       "    .dataframe tbody tr th {\n",
       "        vertical-align: top;\n",
       "    }\n",
       "\n",
       "    .dataframe thead th {\n",
       "        text-align: right;\n",
       "    }\n",
       "</style>\n",
       "<table border=\"1\" class=\"dataframe\">\n",
       "  <thead>\n",
       "    <tr style=\"text-align: right;\">\n",
       "      <th></th>\n",
       "      <th>image_id</th>\n",
       "      <th>label</th>\n",
       "    </tr>\n",
       "  </thead>\n",
       "  <tbody>\n",
       "    <tr>\n",
       "      <th>0</th>\n",
       "      <td>2216849948.jpg</td>\n",
       "      <td>4</td>\n",
       "    </tr>\n",
       "  </tbody>\n",
       "</table>\n",
       "</div>"
      ],
      "text/plain": [
       "         image_id  label\n",
       "0  2216849948.jpg      4"
      ]
     },
     "execution_count": 6,
     "metadata": {},
     "output_type": "execute_result"
    }
   ],
   "source": [
    "preds = []\n",
    "\n",
    "for image_id in ss.image_id:\n",
    "    image = Image.open(os.path.join(WORK_DIR,  \"test_images\", image_id))\n",
    "    image = image.resize((TARGET_SIZE, TARGET_SIZE))\n",
    "    image = np.expand_dims(image, axis = 0)\n",
    "    preds.append(np.argmax(model.predict(image)))\n",
    "\n",
    "ss['label'] = preds\n",
    "ss"
   ]
  },
  {
   "cell_type": "code",
   "execution_count": 7,
   "metadata": {
    "execution": {
     "iopub.execute_input": "2021-01-10T10:40:02.619653Z",
     "iopub.status.busy": "2021-01-10T10:40:02.618617Z",
     "iopub.status.idle": "2021-01-10T10:40:02.858749Z",
     "shell.execute_reply": "2021-01-10T10:40:02.859363Z"
    },
    "papermill": {
     "duration": 0.253377,
     "end_time": "2021-01-10T10:40:02.859521",
     "exception": false,
     "start_time": "2021-01-10T10:40:02.606144",
     "status": "completed"
    },
    "tags": []
   },
   "outputs": [],
   "source": [
    "ss.to_csv('submission.csv', index = False)"
   ]
  },
  {
   "cell_type": "markdown",
   "metadata": {
    "papermill": {
     "duration": 0.009332,
     "end_time": "2021-01-10T10:40:02.878673",
     "exception": false,
     "start_time": "2021-01-10T10:40:02.869341",
     "status": "completed"
    },
    "tags": []
   },
   "source": [
    "## SEE THE [FIRST PART OF THIS NOTEBOOK](https://www.kaggle.com/maksymshkliarevskyi/cassava-leaf-disease-keras-cnn-baseline)"
   ]
  }
 ],
 "metadata": {
  "kernelspec": {
   "display_name": "Python 3",
   "language": "python",
   "name": "python3"
  },
  "language_info": {
   "codemirror_mode": {
    "name": "ipython",
    "version": 3
   },
   "file_extension": ".py",
   "mimetype": "text/x-python",
   "name": "python",
   "nbconvert_exporter": "python",
   "pygments_lexer": "ipython3",
   "version": "3.7.6"
  },
  "papermill": {
   "duration": 19.752629,
   "end_time": "2021-01-10T10:40:02.996682",
   "environment_variables": {},
   "exception": null,
   "input_path": "__notebook__.ipynb",
   "output_path": "__notebook__.ipynb",
   "parameters": {},
   "start_time": "2021-01-10T10:39:43.244053",
   "version": "2.1.0"
  }
 },
 "nbformat": 4,
 "nbformat_minor": 4
}
